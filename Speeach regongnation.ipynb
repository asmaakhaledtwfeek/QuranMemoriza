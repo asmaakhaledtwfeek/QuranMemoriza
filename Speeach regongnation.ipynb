{
 "cells": [
  {
   "cell_type": "code",
   "execution_count": 13,
   "id": "0f4fc2d6",
   "metadata": {
    "collapsed": true
   },
   "outputs": [
    {
     "name": "stdout",
     "output_type": "stream",
     "text": [
      "Requirement already satisfied: SpeechRecognition in e:\\program_apps\\anaconda3\\lib\\site-packages (3.9.0)\n",
      "Requirement already satisfied: requests>=2.26.0 in e:\\program_apps\\anaconda3\\lib\\site-packages (from SpeechRecognition) (2.27.1)Note: you may need to restart the kernel to use updated packages.\n"
     ]
    },
    {
     "name": "stderr",
     "output_type": "stream",
     "text": [
      "WARNING: Ignoring invalid distribution -orch (e:\\program_apps\\anaconda3\\lib\\site-packages)\n",
      "WARNING: Ignoring invalid distribution -orch (e:\\program_apps\\anaconda3\\lib\\site-packages)\n",
      "WARNING: Ignoring invalid distribution -orch (e:\\program_apps\\anaconda3\\lib\\site-packages)\n",
      "WARNING: Ignoring invalid distribution -orch (e:\\program_apps\\anaconda3\\lib\\site-packages)\n",
      "WARNING: Ignoring invalid distribution -orch (e:\\program_apps\\anaconda3\\lib\\site-packages)\n",
      "WARNING: Ignoring invalid distribution -orch (e:\\program_apps\\anaconda3\\lib\\site-packages)\n"
     ]
    },
    {
     "name": "stdout",
     "output_type": "stream",
     "text": [
      "\n",
      "Requirement already satisfied: urllib3<1.27,>=1.21.1 in e:\\program_apps\\anaconda3\\lib\\site-packages (from requests>=2.26.0->SpeechRecognition) (1.26.12)\n",
      "Requirement already satisfied: idna<4,>=2.5 in e:\\program_apps\\anaconda3\\lib\\site-packages (from requests>=2.26.0->SpeechRecognition) (3.3)\n",
      "Requirement already satisfied: charset-normalizer~=2.0.0 in e:\\program_apps\\anaconda3\\lib\\site-packages (from requests>=2.26.0->SpeechRecognition) (2.0.4)\n",
      "Requirement already satisfied: certifi>=2017.4.17 in e:\\program_apps\\anaconda3\\lib\\site-packages (from requests>=2.26.0->SpeechRecognition) (2022.12.7)\n"
     ]
    }
   ],
   "source": [
    "pip install SpeechRecognition\n",
    "pip install python-bidi\n",
    "pip install pyquran \n",
    "pip install PyAudio\n",
    "pip install arabic-reshaper\n",
    "pip install google-cloud-speech"
   ]
  },
  {
   "cell_type": "code",
   "execution_count": 1,
   "id": "d5fb4dbb",
   "metadata": {},
   "outputs": [],
   "source": [
    "import numpy\n",
    "import nltk\n",
    "from nltk import word_tokenize\n",
    "import pyquran as q\n",
    "from bidi.algorithm import get_display\n",
    "import os"
   ]
  },
  {
   "cell_type": "code",
   "execution_count": 9,
   "id": "9dfebb30",
   "metadata": {},
   "outputs": [
    {
     "data": {
      "text/plain": [
       "'بسم الله الرحمن الرحيم'"
      ]
     },
     "execution_count": 9,
     "metadata": {},
     "output_type": "execute_result"
    }
   ],
   "source": [
    "tr = q.quran.get_verse(1, 1, with_tashkeel=False)\n",
    "tr"
   ]
  },
  {
   "cell_type": "code",
   "execution_count": 8,
   "id": "fe60a27c",
   "metadata": {},
   "outputs": [
    {
     "name": "stdout",
     "output_type": "stream",
     "text": [
      "Say something!\n",
      "result2:\n",
      "{   'alternative': [   {   'confidence': 0.92682546,\n",
      "                           'transcript': 'بسم الله الرحمن الرحيم'},\n",
      "                       {'transcript': 'جسم الله الرحمن الرحيم'}],\n",
      "    'final': True}\n",
      "You said: ﺑﺴﻢ ﷲ ﺍﻟﺮﺣﻤﻦ ﺍﻟﺮﺣﻴﻢ\n"
     ]
    }
   ],
   "source": [
    "import speech_recognition as sr\n",
    "import arabic_reshaper\n",
    "\n",
    "\n",
    "# Record Audio\n",
    "r = sr.Recognizer()\n",
    "with sr.Microphone() as source:\n",
    "    print(\"Say something!\")\n",
    "    audio = r.listen(source)\n",
    "\n",
    "# Speech recognition using Google Speech Recognition\n",
    "try:\n",
    "    text = r.recognize_google(audio, language='ar-AR')\n",
    "    reshaped_text = arabic_reshaper.reshape(text)\n",
    "    #reshaped_text.encode('utf8')\n",
    "    print(\"You said: \" + reshaped_text)\n",
    "except sr.UnknownValueError:\n",
    "    print(\"Google Speech Recognition could not understand audio\")\n",
    "except sr.RequestError as e:\n",
    "    print(\"Could not request results from Google Speech Recognition service; {0}\".format(e))"
   ]
  },
  {
   "cell_type": "code",
   "execution_count": 10,
   "id": "06476dfb",
   "metadata": {},
   "outputs": [
    {
     "name": "stdout",
     "output_type": "stream",
     "text": [
      "The ASCII value of 'م' is 1605\n",
      "The ASCII value of 'ﻣ' is 65251\n"
     ]
    }
   ],
   "source": [
    "c = 'م'\n",
    "d = 'ﻣ'\n",
    "# print the ASCII value of assigned character in c\n",
    "print(\"The ASCII value of '\" + c + \"' is\", ord(c)) # Arabic Presentation Forms-A UFB50\n",
    "print(\"The ASCII value of '\" + d + \"' is\", ord(d)) # Arabic U0600"
   ]
  },
  {
   "cell_type": "code",
   "execution_count": 11,
   "id": "bcfa98cf",
   "metadata": {},
   "outputs": [],
   "source": [
    "def levenshteinDistanceDP(token1, token2):\n",
    "    distances = numpy.zeros((len(token1) + 1, len(token2) + 1))\n",
    "    \n",
    "    for t1 in range(len(token1) + 1):\n",
    "        distances[t1][0] = t1\n",
    "    \n",
    "    for t2 in range(len(token2) + 1):\n",
    "        distances[0][t2] = t2\n",
    "        \n",
    "    \n",
    "    a = 0\n",
    "    b = 0\n",
    "    c = 0\n",
    "    \n",
    "    for t1 in range(1, len(token1) + 1):\n",
    "        for t2 in range(1, len(token2) + 1):\n",
    "            if (token1[t1-1] == token2[t2-1]):\n",
    "                distances[t1][t2] = distances[t1 - 1][t2 - 1]\n",
    "            else:\n",
    "                a = distances[t1][t2 - 1]\n",
    "                b = distances[t1 - 1][t2]\n",
    "                c = distances[t1 - 1][t2 - 1]\n",
    "                \n",
    "                if (a <= b and a <= c):\n",
    "                    distances[t1][t2] = a + 1\n",
    "                elif (b <= a and b <= c):\n",
    "                    distances[t1][t2] = b + 1\n",
    "                else:\n",
    "                    distances[t1][t2] = c + 1\n",
    "\n",
    "    return distances[len(token1)][len(token2)]\n"
   ]
  },
  {
   "cell_type": "code",
   "execution_count": 12,
   "id": "1237e032",
   "metadata": {},
   "outputs": [
    {
     "name": "stdout",
     "output_type": "stream",
     "text": [
      "['بسم', 'الله', 'الرحمن', 'الرحيم']\n",
      "['ﺑﺴﻢ', 'ﷲ', 'ﺍﻟﺮﺣﻤﻦ', 'ﺍﻟﺮﺣﻴﻢ']\n",
      "\n",
      "['Missed', 'Missed', 'Missed', 'Missed']\n"
     ]
    }
   ],
   "source": [
    "toknized_trg = word_tokenize(tr)\n",
    "toknized_src = word_tokenize(reshaped_text)\n",
    "print(toknized_trg)\n",
    "print(toknized_src)\n",
    "psrc = 0\n",
    "ptrg = 0\n",
    "itre = len(toknized_trg)\n",
    "trget = []\n",
    "while (psrc < itre and ptrg < itre):\n",
    "    if (psrc == len(toknized_src)):\n",
    "        trget.append(\"Missed\")\n",
    "        ptrg += 1\n",
    "    elif(levenshteinDistanceDP(toknized_src[psrc] , toknized_trg[ptrg]) == 0):\n",
    "        trget.append(\"Same\")\n",
    "        psrc += 1\n",
    "        ptrg += 1\n",
    "    else:\n",
    "        diff = levenshteinDistanceDP(toknized_src[psrc] , toknized_trg[ptrg])\n",
    "        if(len(toknized_trg[ptrg]) > len(toknized_src[psrc]) and diff <= len(toknized_trg[ptrg])/2):\n",
    "            trget.append(\"Modefied\")\n",
    "            psrc += 1\n",
    "            ptrg += 1\n",
    "        elif(len(toknized_trg[ptrg]) <= len(toknized_src[psrc]) and diff <= len(toknized_src[psrc])/2): \n",
    "            trget.append(\"Modefied\")\n",
    "            psrc += 1\n",
    "            ptrg += 1\n",
    "        else:\n",
    "            if(psrc != len(toknized_src)-1):\n",
    "                diff = levenshteinDistanceDP(toknized_src[psrc+1] , toknized_trg[ptrg])\n",
    "            if (diff != 0):\n",
    "                trget.append(\"Missed\")\n",
    "                psrc += 1\n",
    "                ptrg += 1\n",
    "            else:\n",
    "                trget.append(\"Same\")\n",
    "                psrc += 1\n",
    "                ptrg += 1\n",
    "                \n",
    "print()\n",
    "print(trget)"
   ]
  },
  {
   "cell_type": "code",
   "execution_count": null,
   "id": "0fb29d2f",
   "metadata": {},
   "outputs": [],
   "source": []
  }
 ],
 "metadata": {
  "kernelspec": {
   "display_name": "Python 3 (ipykernel)",
   "language": "python",
   "name": "python3"
  },
  "language_info": {
   "codemirror_mode": {
    "name": "ipython",
    "version": 3
   },
   "file_extension": ".py",
   "mimetype": "text/x-python",
   "name": "python",
   "nbconvert_exporter": "python",
   "pygments_lexer": "ipython3",
   "version": "3.9.12"
  }
 },
 "nbformat": 4,
 "nbformat_minor": 5
}
